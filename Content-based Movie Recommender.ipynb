{
 "cells": [
  {
   "cell_type": "markdown",
   "metadata": {},
   "source": [
    "# Content-based Movie Recommender"
   ]
  },
  {
   "cell_type": "code",
   "execution_count": 1,
   "metadata": {},
   "outputs": [
    {
     "name": "stdout",
     "output_type": "stream",
     "text": [
      "Populating the interactive namespace from numpy and matplotlib\n"
     ]
    }
   ],
   "source": [
    "%pylab inline"
   ]
  },
  {
   "cell_type": "code",
   "execution_count": 2,
   "metadata": {
    "collapsed": true
   },
   "outputs": [],
   "source": [
    "# Imports\n",
    "import pandas as pd\n",
    "from sklearn.feature_extraction.text import TfidfVectorizer\n",
    "from sklearn.metrics.pairwise import cosine_similarity"
   ]
  },
  {
   "cell_type": "markdown",
   "metadata": {},
   "source": [
    "## Load the MovieLens data\n",
    "\n",
    "You can download the file `ml_latest.zip`[here](https://grouplens.org/datasets/movielens/) and then unzip into the `data/` directory."
   ]
  },
  {
   "cell_type": "code",
   "execution_count": 3,
   "metadata": {},
   "outputs": [
    {
     "name": "stdout",
     "output_type": "stream",
     "text": [
      "genome-scores.csv links.csv         ratings.csv\r\n",
      "genome-tags.csv   movies.csv\r\n"
     ]
    }
   ],
   "source": [
    "!ls data/"
   ]
  },
  {
   "cell_type": "code",
   "execution_count": 4,
   "metadata": {},
   "outputs": [],
   "source": [
    "# Read dataframes\n",
    "df_movies = pd.read_csv('data/movies.csv')\n",
    "df_links = pd.read_csv('data/links.csv')\n",
    "df_ratings = pd.read_csv('data/ratings.csv')\n",
    "df_genome_tags = pd.read_csv('data/genome-tags.csv')\n",
    "df_genome_scores = pd.read_csv('data/genome-scores.csv')\n",
    "\n",
    "# Merge scores and tags\n",
    "df_movie_tags_in_text = pd.merge(df_genome_scores, df_genome_tags, on='tagId')[['movieId', 'tag', 'relevance']]\n",
    "\n",
    "# Only keep tags with relevance higher than 0.3\n",
    "df_movie_tags = df_genome_scores[df_genome_scores.relevance > 0.3][['movieId', 'tagId']]"
   ]
  },
  {
   "cell_type": "markdown",
   "metadata": {},
   "source": [
    "### Which is movie with Id 1?"
   ]
  },
  {
   "cell_type": "code",
   "execution_count": 5,
   "metadata": {},
   "outputs": [
    {
     "data": {
      "text/html": [
       "<div>\n",
       "<style scoped>\n",
       "    .dataframe tbody tr th:only-of-type {\n",
       "        vertical-align: middle;\n",
       "    }\n",
       "\n",
       "    .dataframe tbody tr th {\n",
       "        vertical-align: top;\n",
       "    }\n",
       "\n",
       "    .dataframe thead th {\n",
       "        text-align: right;\n",
       "    }\n",
       "</style>\n",
       "<table border=\"1\" class=\"dataframe\">\n",
       "  <thead>\n",
       "    <tr style=\"text-align: right;\">\n",
       "      <th></th>\n",
       "      <th>movieId</th>\n",
       "      <th>title</th>\n",
       "      <th>genres</th>\n",
       "    </tr>\n",
       "  </thead>\n",
       "  <tbody>\n",
       "    <tr>\n",
       "      <th>0</th>\n",
       "      <td>1</td>\n",
       "      <td>Toy Story (1995)</td>\n",
       "      <td>Adventure|Animation|Children|Comedy|Fantasy</td>\n",
       "    </tr>\n",
       "  </tbody>\n",
       "</table>\n",
       "</div>"
      ],
      "text/plain": [
       "   movieId             title                                       genres\n",
       "0        1  Toy Story (1995)  Adventure|Animation|Children|Comedy|Fantasy"
      ]
     },
     "execution_count": 5,
     "metadata": {},
     "output_type": "execute_result"
    }
   ],
   "source": [
    "df_movies[df_movies.movieId == 1]"
   ]
  },
  {
   "cell_type": "markdown",
   "metadata": {},
   "source": [
    "### Let's have a look at a few of the tags Toy Story "
   ]
  },
  {
   "cell_type": "code",
   "execution_count": 6,
   "metadata": {},
   "outputs": [
    {
     "data": {
      "text/html": [
       "<div>\n",
       "<style scoped>\n",
       "    .dataframe tbody tr th:only-of-type {\n",
       "        vertical-align: middle;\n",
       "    }\n",
       "\n",
       "    .dataframe tbody tr th {\n",
       "        vertical-align: top;\n",
       "    }\n",
       "\n",
       "    .dataframe thead th {\n",
       "        text-align: right;\n",
       "    }\n",
       "</style>\n",
       "<table border=\"1\" class=\"dataframe\">\n",
       "  <thead>\n",
       "    <tr style=\"text-align: right;\">\n",
       "      <th></th>\n",
       "      <th>movieId</th>\n",
       "      <th>tagId</th>\n",
       "      <th>tag</th>\n",
       "    </tr>\n",
       "  </thead>\n",
       "  <tbody>\n",
       "    <tr>\n",
       "      <th>50</th>\n",
       "      <td>1</td>\n",
       "      <td>323</td>\n",
       "      <td>drama</td>\n",
       "    </tr>\n",
       "    <tr>\n",
       "      <th>114</th>\n",
       "      <td>1</td>\n",
       "      <td>743</td>\n",
       "      <td>original plot</td>\n",
       "    </tr>\n",
       "    <tr>\n",
       "      <th>92</th>\n",
       "      <td>1</td>\n",
       "      <td>529</td>\n",
       "      <td>humorous</td>\n",
       "    </tr>\n",
       "    <tr>\n",
       "      <th>95</th>\n",
       "      <td>1</td>\n",
       "      <td>548</td>\n",
       "      <td>inspirational</td>\n",
       "    </tr>\n",
       "    <tr>\n",
       "      <th>173</th>\n",
       "      <td>1</td>\n",
       "      <td>1092</td>\n",
       "      <td>visually stunning</td>\n",
       "    </tr>\n",
       "    <tr>\n",
       "      <th>104</th>\n",
       "      <td>1</td>\n",
       "      <td>623</td>\n",
       "      <td>magic</td>\n",
       "    </tr>\n",
       "    <tr>\n",
       "      <th>91</th>\n",
       "      <td>1</td>\n",
       "      <td>528</td>\n",
       "      <td>humor</td>\n",
       "    </tr>\n",
       "    <tr>\n",
       "      <th>77</th>\n",
       "      <td>1</td>\n",
       "      <td>453</td>\n",
       "      <td>good story</td>\n",
       "    </tr>\n",
       "    <tr>\n",
       "      <th>139</th>\n",
       "      <td>1</td>\n",
       "      <td>895</td>\n",
       "      <td>script</td>\n",
       "    </tr>\n",
       "    <tr>\n",
       "      <th>166</th>\n",
       "      <td>1</td>\n",
       "      <td>1053</td>\n",
       "      <td>underdog</td>\n",
       "    </tr>\n",
       "  </tbody>\n",
       "</table>\n",
       "</div>"
      ],
      "text/plain": [
       "     movieId  tagId                tag\n",
       "50         1    323              drama\n",
       "114        1    743      original plot\n",
       "92         1    529           humorous\n",
       "95         1    548      inspirational\n",
       "173        1   1092  visually stunning\n",
       "104        1    623              magic\n",
       "91         1    528              humor\n",
       "77         1    453         good story\n",
       "139        1    895             script\n",
       "166        1   1053           underdog"
      ]
     },
     "execution_count": 6,
     "metadata": {},
     "output_type": "execute_result"
    }
   ],
   "source": [
    "df_movie_tags[df_movie_tags['movieId'] == 1].merge(df_genome_tags, on='tagId').sample(10)"
   ]
  },
  {
   "cell_type": "markdown",
   "metadata": {},
   "source": [
    "### Encode features"
   ]
  },
  {
   "cell_type": "code",
   "execution_count": 7,
   "metadata": {
    "collapsed": true
   },
   "outputs": [],
   "source": [
    "df_tags_to_movies = pd.merge(df_movie_tags, df_genome_tags, on='tagId', how='left')[['movieId', 'tagId']]\n",
    "df_tags_to_movies['tagId'] = df_tags_to_movies.tagId.astype(str)"
   ]
  },
  {
   "cell_type": "code",
   "execution_count": 8,
   "metadata": {
    "collapsed": true
   },
   "outputs": [],
   "source": [
    "def _concatenate_tags_of_movie(tags):\n",
    "    tags_as_str = ' '.join(set(tags))\n",
    "    return tags_as_str"
   ]
  },
  {
   "cell_type": "code",
   "execution_count": 9,
   "metadata": {
    "collapsed": true
   },
   "outputs": [],
   "source": [
    "df_tags_per_movie = df_tags_to_movies.groupby('movieId')['tagId'].agg(_concatenate_tags_of_movie)\n",
    "df_tags_per_movie.name = 'movie_tags'\n",
    "df_tags_per_movie = df_tags_per_movie.reset_index()"
   ]
  },
  {
   "cell_type": "code",
   "execution_count": 10,
   "metadata": {},
   "outputs": [
    {
     "data": {
      "text/html": [
       "<div>\n",
       "<style scoped>\n",
       "    .dataframe tbody tr th:only-of-type {\n",
       "        vertical-align: middle;\n",
       "    }\n",
       "\n",
       "    .dataframe tbody tr th {\n",
       "        vertical-align: top;\n",
       "    }\n",
       "\n",
       "    .dataframe thead th {\n",
       "        text-align: right;\n",
       "    }\n",
       "</style>\n",
       "<table border=\"1\" class=\"dataframe\">\n",
       "  <thead>\n",
       "    <tr style=\"text-align: right;\">\n",
       "      <th></th>\n",
       "      <th>movieId</th>\n",
       "      <th>movie_tags</th>\n",
       "    </tr>\n",
       "  </thead>\n",
       "  <tbody>\n",
       "    <tr>\n",
       "      <th>0</th>\n",
       "      <td>1</td>\n",
       "      <td>216 623 215 669 760 664 497 490 691 21 1072 29...</td>\n",
       "    </tr>\n",
       "  </tbody>\n",
       "</table>\n",
       "</div>"
      ],
      "text/plain": [
       "   movieId                                         movie_tags\n",
       "0        1  216 623 215 669 760 664 497 490 691 21 1072 29..."
      ]
     },
     "execution_count": 10,
     "metadata": {},
     "output_type": "execute_result"
    }
   ],
   "source": [
    "df_tags_per_movie[df_tags_per_movie['movieId'] == 1]"
   ]
  },
  {
   "cell_type": "code",
   "execution_count": 11,
   "metadata": {
    "collapsed": true
   },
   "outputs": [],
   "source": [
    "df_avg_ratings  = df_ratings.groupby('movieId')['rating'].agg(['mean', 'median', 'size'])\n",
    "df_avg_ratings.columns = ['rating_mean', 'rating_median', 'num_ratingsdf_tags_per_movie']\n",
    "df_avg_ratings = df_avg_ratings.reset_index()"
   ]
  },
  {
   "cell_type": "code",
   "execution_count": 12,
   "metadata": {
    "collapsed": true
   },
   "outputs": [],
   "source": [
    "df_movies_with_ratings = pd.merge(df_movies, df_avg_ratings, how='left', on='movieId')"
   ]
  },
  {
   "cell_type": "code",
   "execution_count": 13,
   "metadata": {
    "collapsed": true
   },
   "outputs": [],
   "source": [
    "df_data = pd.merge(df_movies_with_ratings, df_tags_per_movie, how='left', on='movieId')"
   ]
  },
  {
   "cell_type": "code",
   "execution_count": 14,
   "metadata": {
    "collapsed": true
   },
   "outputs": [],
   "source": [
    "df_data_with_tags = df_data[~df_data.movie_tags.isnull()].reset_index(drop=True)"
   ]
  },
  {
   "cell_type": "markdown",
   "metadata": {},
   "source": [
    "### TF-IDF vectors"
   ]
  },
  {
   "cell_type": "code",
   "execution_count": 15,
   "metadata": {
    "collapsed": true
   },
   "outputs": [],
   "source": [
    "tf_idf = TfidfVectorizer()"
   ]
  },
  {
   "cell_type": "code",
   "execution_count": 16,
   "metadata": {
    "collapsed": true
   },
   "outputs": [],
   "source": [
    "df_movies_tf_idf_described = tf_idf.fit_transform(df_data_with_tags.movie_tags)"
   ]
  },
  {
   "cell_type": "code",
   "execution_count": 17,
   "metadata": {
    "collapsed": true
   },
   "outputs": [],
   "source": [
    "m2m = cosine_similarity(df_movies_tf_idf_described)"
   ]
  },
  {
   "cell_type": "code",
   "execution_count": 18,
   "metadata": {
    "collapsed": true
   },
   "outputs": [],
   "source": [
    "df_tfidf_m2m = pd.DataFrame(cosine_similarity(df_movies_tf_idf_described))"
   ]
  },
  {
   "cell_type": "code",
   "execution_count": 19,
   "metadata": {
    "collapsed": true
   },
   "outputs": [],
   "source": [
    "index_to_movie_id = df_data_with_tags['movieId']"
   ]
  },
  {
   "cell_type": "code",
   "execution_count": 20,
   "metadata": {
    "collapsed": true
   },
   "outputs": [],
   "source": [
    "df_tfidf_m2m.columns = [str(index_to_movie_id[int(col)]) for col in df_tfidf_m2m.columns]"
   ]
  },
  {
   "cell_type": "code",
   "execution_count": 21,
   "metadata": {
    "collapsed": true
   },
   "outputs": [],
   "source": [
    "df_tfidf_m2m.index = [index_to_movie_id[idx] for idx in df_tfidf_m2m.index]"
   ]
  },
  {
   "cell_type": "code",
   "execution_count": 22,
   "metadata": {},
   "outputs": [
    {
     "data": {
      "text/html": [
       "<div>\n",
       "<style scoped>\n",
       "    .dataframe tbody tr th:only-of-type {\n",
       "        vertical-align: middle;\n",
       "    }\n",
       "\n",
       "    .dataframe tbody tr th {\n",
       "        vertical-align: top;\n",
       "    }\n",
       "\n",
       "    .dataframe thead th {\n",
       "        text-align: right;\n",
       "    }\n",
       "</style>\n",
       "<table border=\"1\" class=\"dataframe\">\n",
       "  <thead>\n",
       "    <tr style=\"text-align: right;\">\n",
       "      <th></th>\n",
       "      <th>1</th>\n",
       "      <th>2</th>\n",
       "      <th>3</th>\n",
       "      <th>4</th>\n",
       "      <th>5</th>\n",
       "      <th>6</th>\n",
       "      <th>7</th>\n",
       "      <th>8</th>\n",
       "      <th>9</th>\n",
       "      <th>10</th>\n",
       "      <th>...</th>\n",
       "      <th>170957</th>\n",
       "      <th>171011</th>\n",
       "      <th>171763</th>\n",
       "      <th>171765</th>\n",
       "      <th>172547</th>\n",
       "      <th>173145</th>\n",
       "      <th>173209</th>\n",
       "      <th>174053</th>\n",
       "      <th>174055</th>\n",
       "      <th>174585</th>\n",
       "    </tr>\n",
       "  </thead>\n",
       "  <tbody>\n",
       "    <tr>\n",
       "      <th>1</th>\n",
       "      <td>1.000000</td>\n",
       "      <td>0.460368</td>\n",
       "      <td>0.163286</td>\n",
       "      <td>0.132615</td>\n",
       "      <td>0.226270</td>\n",
       "      <td>0.259194</td>\n",
       "      <td>0.211049</td>\n",
       "      <td>0.257855</td>\n",
       "      <td>0.079703</td>\n",
       "      <td>0.266038</td>\n",
       "      <td>...</td>\n",
       "      <td>0.406805</td>\n",
       "      <td>0.320944</td>\n",
       "      <td>0.349831</td>\n",
       "      <td>0.409419</td>\n",
       "      <td>0.345129</td>\n",
       "      <td>0.253684</td>\n",
       "      <td>0.122336</td>\n",
       "      <td>0.290244</td>\n",
       "      <td>0.360141</td>\n",
       "      <td>0.230191</td>\n",
       "    </tr>\n",
       "    <tr>\n",
       "      <th>2</th>\n",
       "      <td>0.460368</td>\n",
       "      <td>1.000000</td>\n",
       "      <td>0.107767</td>\n",
       "      <td>0.106618</td>\n",
       "      <td>0.234752</td>\n",
       "      <td>0.125419</td>\n",
       "      <td>0.153636</td>\n",
       "      <td>0.275896</td>\n",
       "      <td>0.197990</td>\n",
       "      <td>0.262494</td>\n",
       "      <td>...</td>\n",
       "      <td>0.265312</td>\n",
       "      <td>0.182559</td>\n",
       "      <td>0.196636</td>\n",
       "      <td>0.191116</td>\n",
       "      <td>0.237748</td>\n",
       "      <td>0.198260</td>\n",
       "      <td>0.069587</td>\n",
       "      <td>0.218103</td>\n",
       "      <td>0.239306</td>\n",
       "      <td>0.265747</td>\n",
       "    </tr>\n",
       "    <tr>\n",
       "      <th>3</th>\n",
       "      <td>0.163286</td>\n",
       "      <td>0.107767</td>\n",
       "      <td>1.000000</td>\n",
       "      <td>0.260229</td>\n",
       "      <td>0.445249</td>\n",
       "      <td>0.113001</td>\n",
       "      <td>0.355249</td>\n",
       "      <td>0.192246</td>\n",
       "      <td>0.062738</td>\n",
       "      <td>0.169872</td>\n",
       "      <td>...</td>\n",
       "      <td>0.153955</td>\n",
       "      <td>0.120308</td>\n",
       "      <td>0.162403</td>\n",
       "      <td>0.142376</td>\n",
       "      <td>0.242440</td>\n",
       "      <td>0.149103</td>\n",
       "      <td>0.066651</td>\n",
       "      <td>0.067790</td>\n",
       "      <td>0.107225</td>\n",
       "      <td>0.117665</td>\n",
       "    </tr>\n",
       "    <tr>\n",
       "      <th>4</th>\n",
       "      <td>0.132615</td>\n",
       "      <td>0.106618</td>\n",
       "      <td>0.260229</td>\n",
       "      <td>1.000000</td>\n",
       "      <td>0.328667</td>\n",
       "      <td>0.072143</td>\n",
       "      <td>0.421189</td>\n",
       "      <td>0.229220</td>\n",
       "      <td>0.062326</td>\n",
       "      <td>0.072101</td>\n",
       "      <td>...</td>\n",
       "      <td>0.109277</td>\n",
       "      <td>0.135234</td>\n",
       "      <td>0.168605</td>\n",
       "      <td>0.224888</td>\n",
       "      <td>0.222388</td>\n",
       "      <td>0.159902</td>\n",
       "      <td>0.071548</td>\n",
       "      <td>0.073836</td>\n",
       "      <td>0.137307</td>\n",
       "      <td>0.091273</td>\n",
       "    </tr>\n",
       "    <tr>\n",
       "      <th>5</th>\n",
       "      <td>0.226270</td>\n",
       "      <td>0.234752</td>\n",
       "      <td>0.445249</td>\n",
       "      <td>0.328667</td>\n",
       "      <td>1.000000</td>\n",
       "      <td>0.057446</td>\n",
       "      <td>0.476907</td>\n",
       "      <td>0.191526</td>\n",
       "      <td>0.126756</td>\n",
       "      <td>0.151448</td>\n",
       "      <td>...</td>\n",
       "      <td>0.205023</td>\n",
       "      <td>0.120247</td>\n",
       "      <td>0.172031</td>\n",
       "      <td>0.191384</td>\n",
       "      <td>0.310622</td>\n",
       "      <td>0.151059</td>\n",
       "      <td>0.062195</td>\n",
       "      <td>0.126224</td>\n",
       "      <td>0.151979</td>\n",
       "      <td>0.175246</td>\n",
       "    </tr>\n",
       "  </tbody>\n",
       "</table>\n",
       "<p>5 rows × 10993 columns</p>\n",
       "</div>"
      ],
      "text/plain": [
       "          1         2         3         4         5         6         7  \\\n",
       "1  1.000000  0.460368  0.163286  0.132615  0.226270  0.259194  0.211049   \n",
       "2  0.460368  1.000000  0.107767  0.106618  0.234752  0.125419  0.153636   \n",
       "3  0.163286  0.107767  1.000000  0.260229  0.445249  0.113001  0.355249   \n",
       "4  0.132615  0.106618  0.260229  1.000000  0.328667  0.072143  0.421189   \n",
       "5  0.226270  0.234752  0.445249  0.328667  1.000000  0.057446  0.476907   \n",
       "\n",
       "          8         9        10    ...       170957    171011    171763  \\\n",
       "1  0.257855  0.079703  0.266038    ...     0.406805  0.320944  0.349831   \n",
       "2  0.275896  0.197990  0.262494    ...     0.265312  0.182559  0.196636   \n",
       "3  0.192246  0.062738  0.169872    ...     0.153955  0.120308  0.162403   \n",
       "4  0.229220  0.062326  0.072101    ...     0.109277  0.135234  0.168605   \n",
       "5  0.191526  0.126756  0.151448    ...     0.205023  0.120247  0.172031   \n",
       "\n",
       "     171765    172547    173145    173209    174053    174055    174585  \n",
       "1  0.409419  0.345129  0.253684  0.122336  0.290244  0.360141  0.230191  \n",
       "2  0.191116  0.237748  0.198260  0.069587  0.218103  0.239306  0.265747  \n",
       "3  0.142376  0.242440  0.149103  0.066651  0.067790  0.107225  0.117665  \n",
       "4  0.224888  0.222388  0.159902  0.071548  0.073836  0.137307  0.091273  \n",
       "5  0.191384  0.310622  0.151059  0.062195  0.126224  0.151979  0.175246  \n",
       "\n",
       "[5 rows x 10993 columns]"
      ]
     },
     "execution_count": 22,
     "metadata": {},
     "output_type": "execute_result"
    }
   ],
   "source": [
    "df_tfidf_m2m.head()"
   ]
  },
  {
   "cell_type": "markdown",
   "metadata": {},
   "source": [
    "### Most similar movies to Toy Story"
   ]
  },
  {
   "cell_type": "code",
   "execution_count": 23,
   "metadata": {},
   "outputs": [
    {
     "data": {
      "text/plain": [
       "1        1.000000\n",
       "3114     0.737982\n",
       "4886     0.736047\n",
       "2355     0.721830\n",
       "78499    0.708378\n",
       "76093    0.685637\n",
       "5218     0.653424\n",
       "4306     0.642794\n",
       "6377     0.639971\n",
       "68954    0.635059\n",
       "Name: 1, dtype: float64"
      ]
     },
     "execution_count": 23,
     "metadata": {},
     "output_type": "execute_result"
    }
   ],
   "source": [
    "df_tfidf_m2m.iloc[0].sort_values(ascending=False)[:10]"
   ]
  },
  {
   "cell_type": "code",
   "execution_count": 24,
   "metadata": {},
   "outputs": [
    {
     "data": {
      "text/html": [
       "<div>\n",
       "<style scoped>\n",
       "    .dataframe tbody tr th:only-of-type {\n",
       "        vertical-align: middle;\n",
       "    }\n",
       "\n",
       "    .dataframe tbody tr th {\n",
       "        vertical-align: top;\n",
       "    }\n",
       "\n",
       "    .dataframe thead th {\n",
       "        text-align: right;\n",
       "    }\n",
       "</style>\n",
       "<table border=\"1\" class=\"dataframe\">\n",
       "  <thead>\n",
       "    <tr style=\"text-align: right;\">\n",
       "      <th></th>\n",
       "      <th>movieId</th>\n",
       "      <th>title</th>\n",
       "      <th>genres</th>\n",
       "      <th>rating_mean</th>\n",
       "      <th>rating_median</th>\n",
       "      <th>num_ratingsdf_tags_per_movie</th>\n",
       "      <th>movie_tags</th>\n",
       "    </tr>\n",
       "  </thead>\n",
       "  <tbody>\n",
       "    <tr>\n",
       "      <th>2769</th>\n",
       "      <td>3114</td>\n",
       "      <td>Toy Story 2 (1999)</td>\n",
       "      <td>Adventure|Animation|Children|Comedy|Fantasy</td>\n",
       "      <td>3.811412</td>\n",
       "      <td>4.0</td>\n",
       "      <td>7352.0</td>\n",
       "      <td>215 669 664 496 138 490 1072 29 1070 1071 406 ...</td>\n",
       "    </tr>\n",
       "  </tbody>\n",
       "</table>\n",
       "</div>"
      ],
      "text/plain": [
       "      movieId               title  \\\n",
       "2769     3114  Toy Story 2 (1999)   \n",
       "\n",
       "                                           genres  rating_mean  rating_median  \\\n",
       "2769  Adventure|Animation|Children|Comedy|Fantasy     3.811412            4.0   \n",
       "\n",
       "      num_ratingsdf_tags_per_movie  \\\n",
       "2769                        7352.0   \n",
       "\n",
       "                                             movie_tags  \n",
       "2769  215 669 664 496 138 490 1072 29 1070 1071 406 ...  "
      ]
     },
     "execution_count": 24,
     "metadata": {},
     "output_type": "execute_result"
    }
   ],
   "source": [
    "df_data_with_tags[df_data_with_tags.movieId == 3114]"
   ]
  },
  {
   "cell_type": "code",
   "execution_count": 25,
   "metadata": {},
   "outputs": [
    {
     "data": {
      "text/html": [
       "<div>\n",
       "<style scoped>\n",
       "    .dataframe tbody tr th:only-of-type {\n",
       "        vertical-align: middle;\n",
       "    }\n",
       "\n",
       "    .dataframe tbody tr th {\n",
       "        vertical-align: top;\n",
       "    }\n",
       "\n",
       "    .dataframe thead th {\n",
       "        text-align: right;\n",
       "    }\n",
       "</style>\n",
       "<table border=\"1\" class=\"dataframe\">\n",
       "  <thead>\n",
       "    <tr style=\"text-align: right;\">\n",
       "      <th></th>\n",
       "      <th>movieId</th>\n",
       "      <th>title</th>\n",
       "      <th>genres</th>\n",
       "      <th>rating_mean</th>\n",
       "      <th>rating_median</th>\n",
       "      <th>num_ratingsdf_tags_per_movie</th>\n",
       "      <th>movie_tags</th>\n",
       "    </tr>\n",
       "  </thead>\n",
       "  <tbody>\n",
       "    <tr>\n",
       "      <th>4331</th>\n",
       "      <td>4886</td>\n",
       "      <td>Monsters, Inc. (2001)</td>\n",
       "      <td>Adventure|Animation|Children|Comedy|Fantasy</td>\n",
       "      <td>3.861679</td>\n",
       "      <td>4.0</td>\n",
       "      <td>8708.0</td>\n",
       "      <td>216 215 669 664 663 765 136 497 490 493 690 10...</td>\n",
       "    </tr>\n",
       "  </tbody>\n",
       "</table>\n",
       "</div>"
      ],
      "text/plain": [
       "      movieId                  title  \\\n",
       "4331     4886  Monsters, Inc. (2001)   \n",
       "\n",
       "                                           genres  rating_mean  rating_median  \\\n",
       "4331  Adventure|Animation|Children|Comedy|Fantasy     3.861679            4.0   \n",
       "\n",
       "      num_ratingsdf_tags_per_movie  \\\n",
       "4331                        8708.0   \n",
       "\n",
       "                                             movie_tags  \n",
       "4331  216 215 669 664 663 765 136 497 490 493 690 10...  "
      ]
     },
     "execution_count": 25,
     "metadata": {},
     "output_type": "execute_result"
    }
   ],
   "source": [
    "df_data_with_tags[df_data_with_tags.movieId == 4886]"
   ]
  },
  {
   "cell_type": "markdown",
   "metadata": {},
   "source": [
    "### Cosine similarity for Terminator 2\n",
    "\n",
    "The costine similarity between Toy Story 2 and Terminator 2"
   ]
  },
  {
   "cell_type": "code",
   "execution_count": 26,
   "metadata": {},
   "outputs": [
    {
     "data": {
      "text/html": [
       "<div>\n",
       "<style scoped>\n",
       "    .dataframe tbody tr th:only-of-type {\n",
       "        vertical-align: middle;\n",
       "    }\n",
       "\n",
       "    .dataframe tbody tr th {\n",
       "        vertical-align: top;\n",
       "    }\n",
       "\n",
       "    .dataframe thead th {\n",
       "        text-align: right;\n",
       "    }\n",
       "</style>\n",
       "<table border=\"1\" class=\"dataframe\">\n",
       "  <thead>\n",
       "    <tr style=\"text-align: right;\">\n",
       "      <th></th>\n",
       "      <th>movieId</th>\n",
       "      <th>title</th>\n",
       "      <th>genres</th>\n",
       "      <th>rating_mean</th>\n",
       "      <th>rating_median</th>\n",
       "      <th>num_ratingsdf_tags_per_movie</th>\n",
       "      <th>movie_tags</th>\n",
       "    </tr>\n",
       "  </thead>\n",
       "  <tbody>\n",
       "    <tr>\n",
       "      <th>555</th>\n",
       "      <td>589</td>\n",
       "      <td>Terminator 2: Judgment Day (1991)</td>\n",
       "      <td>Action|Sci-Fi</td>\n",
       "      <td>3.947648</td>\n",
       "      <td>4.0</td>\n",
       "      <td>16093.0</td>\n",
       "      <td>216 768 215 212 1085 668 452 761 663 767 132 8...</td>\n",
       "    </tr>\n",
       "  </tbody>\n",
       "</table>\n",
       "</div>"
      ],
      "text/plain": [
       "     movieId                              title         genres  rating_mean  \\\n",
       "555      589  Terminator 2: Judgment Day (1991)  Action|Sci-Fi     3.947648   \n",
       "\n",
       "     rating_median  num_ratingsdf_tags_per_movie  \\\n",
       "555            4.0                       16093.0   \n",
       "\n",
       "                                            movie_tags  \n",
       "555  216 768 215 212 1085 668 452 761 663 767 132 8...  "
      ]
     },
     "execution_count": 26,
     "metadata": {},
     "output_type": "execute_result"
    }
   ],
   "source": [
    "df_data_with_tags[df_data_with_tags.title.str.contains('Terminator 2')]"
   ]
  },
  {
   "cell_type": "code",
   "execution_count": 27,
   "metadata": {},
   "outputs": [
    {
     "data": {
      "text/plain": [
       "0.28311016453467081"
      ]
     },
     "execution_count": 27,
     "metadata": {},
     "output_type": "execute_result"
    }
   ],
   "source": [
    "df_tfidf_m2m.iloc[1][555]"
   ]
  },
  {
   "cell_type": "markdown",
   "metadata": {},
   "source": [
    "### Build user profile for user #1"
   ]
  },
  {
   "cell_type": "code",
   "execution_count": 28,
   "metadata": {
    "collapsed": true
   },
   "outputs": [],
   "source": [
    "df_user_ratings = df_ratings[df_ratings.userId == 1]"
   ]
  },
  {
   "cell_type": "code",
   "execution_count": 29,
   "metadata": {
    "collapsed": true
   },
   "outputs": [],
   "source": [
    "df_user_data_with_tags = df_data_with_tags.reset_index().merge(df_user_ratings, on='movieId')"
   ]
  },
  {
   "cell_type": "code",
   "execution_count": 30,
   "metadata": {},
   "outputs": [
    {
     "data": {
      "text/html": [
       "<div>\n",
       "<style scoped>\n",
       "    .dataframe tbody tr th:only-of-type {\n",
       "        vertical-align: middle;\n",
       "    }\n",
       "\n",
       "    .dataframe tbody tr th {\n",
       "        vertical-align: top;\n",
       "    }\n",
       "\n",
       "    .dataframe thead th {\n",
       "        text-align: right;\n",
       "    }\n",
       "</style>\n",
       "<table border=\"1\" class=\"dataframe\">\n",
       "  <thead>\n",
       "    <tr style=\"text-align: right;\">\n",
       "      <th></th>\n",
       "      <th>title</th>\n",
       "      <th>rating</th>\n",
       "    </tr>\n",
       "  </thead>\n",
       "  <tbody>\n",
       "    <tr>\n",
       "      <th>0</th>\n",
       "      <td>Braveheart (1995)</td>\n",
       "      <td>1.0</td>\n",
       "    </tr>\n",
       "    <tr>\n",
       "      <th>1</th>\n",
       "      <td>Basketball Diaries, The (1995)</td>\n",
       "      <td>4.5</td>\n",
       "    </tr>\n",
       "    <tr>\n",
       "      <th>2</th>\n",
       "      <td>Godfather, The (1972)</td>\n",
       "      <td>5.0</td>\n",
       "    </tr>\n",
       "    <tr>\n",
       "      <th>3</th>\n",
       "      <td>Godfather: Part II, The (1974)</td>\n",
       "      <td>5.0</td>\n",
       "    </tr>\n",
       "    <tr>\n",
       "      <th>4</th>\n",
       "      <td>Dead Poets Society (1989)</td>\n",
       "      <td>5.0</td>\n",
       "    </tr>\n",
       "    <tr>\n",
       "      <th>5</th>\n",
       "      <td>Breakfast Club, The (1985)</td>\n",
       "      <td>4.0</td>\n",
       "    </tr>\n",
       "    <tr>\n",
       "      <th>6</th>\n",
       "      <td>Sixth Sense, The (1999)</td>\n",
       "      <td>4.5</td>\n",
       "    </tr>\n",
       "    <tr>\n",
       "      <th>7</th>\n",
       "      <td>Ferris Bueller's Day Off (1986)</td>\n",
       "      <td>5.0</td>\n",
       "    </tr>\n",
       "    <tr>\n",
       "      <th>8</th>\n",
       "      <td>Fight Club (1999)</td>\n",
       "      <td>4.0</td>\n",
       "    </tr>\n",
       "    <tr>\n",
       "      <th>9</th>\n",
       "      <td>Memento (2000)</td>\n",
       "      <td>4.0</td>\n",
       "    </tr>\n",
       "    <tr>\n",
       "      <th>10</th>\n",
       "      <td>Donnie Darko (2001)</td>\n",
       "      <td>5.0</td>\n",
       "    </tr>\n",
       "    <tr>\n",
       "      <th>11</th>\n",
       "      <td>Igby Goes Down (2002)</td>\n",
       "      <td>5.0</td>\n",
       "    </tr>\n",
       "    <tr>\n",
       "      <th>12</th>\n",
       "      <td>Batman Begins (2005)</td>\n",
       "      <td>4.0</td>\n",
       "    </tr>\n",
       "    <tr>\n",
       "      <th>13</th>\n",
       "      <td>Superbad (2007)</td>\n",
       "      <td>3.5</td>\n",
       "    </tr>\n",
       "    <tr>\n",
       "      <th>14</th>\n",
       "      <td>Dark Knight, The (2008)</td>\n",
       "      <td>4.0</td>\n",
       "    </tr>\n",
       "    <tr>\n",
       "      <th>15</th>\n",
       "      <td>Iron Man (2008)</td>\n",
       "      <td>5.0</td>\n",
       "    </tr>\n",
       "    <tr>\n",
       "      <th>16</th>\n",
       "      <td>Star Trek (2009)</td>\n",
       "      <td>5.0</td>\n",
       "    </tr>\n",
       "    <tr>\n",
       "      <th>17</th>\n",
       "      <td>Harry Potter and the Half-Blood Prince (2009)</td>\n",
       "      <td>5.0</td>\n",
       "    </tr>\n",
       "    <tr>\n",
       "      <th>18</th>\n",
       "      <td>Sherlock Holmes (2009)</td>\n",
       "      <td>5.0</td>\n",
       "    </tr>\n",
       "    <tr>\n",
       "      <th>19</th>\n",
       "      <td>Harry Potter and the Deathly Hallows: Part 1 (...</td>\n",
       "      <td>5.0</td>\n",
       "    </tr>\n",
       "    <tr>\n",
       "      <th>20</th>\n",
       "      <td>The Hunger Games (2012)</td>\n",
       "      <td>2.5</td>\n",
       "    </tr>\n",
       "    <tr>\n",
       "      <th>21</th>\n",
       "      <td>Sherlock Holmes: A Game of Shadows (2011)</td>\n",
       "      <td>5.0</td>\n",
       "    </tr>\n",
       "    <tr>\n",
       "      <th>22</th>\n",
       "      <td>Perks of Being a Wallflower, The (2012)</td>\n",
       "      <td>5.0</td>\n",
       "    </tr>\n",
       "    <tr>\n",
       "      <th>23</th>\n",
       "      <td>Hobbit: An Unexpected Journey, The (2012)</td>\n",
       "      <td>0.5</td>\n",
       "    </tr>\n",
       "    <tr>\n",
       "      <th>24</th>\n",
       "      <td>Django Unchained (2012)</td>\n",
       "      <td>4.0</td>\n",
       "    </tr>\n",
       "    <tr>\n",
       "      <th>25</th>\n",
       "      <td>Whiplash (2014)</td>\n",
       "      <td>5.0</td>\n",
       "    </tr>\n",
       "  </tbody>\n",
       "</table>\n",
       "</div>"
      ],
      "text/plain": [
       "                                                title  rating\n",
       "0                                   Braveheart (1995)     1.0\n",
       "1                      Basketball Diaries, The (1995)     4.5\n",
       "2                               Godfather, The (1972)     5.0\n",
       "3                      Godfather: Part II, The (1974)     5.0\n",
       "4                           Dead Poets Society (1989)     5.0\n",
       "5                          Breakfast Club, The (1985)     4.0\n",
       "6                             Sixth Sense, The (1999)     4.5\n",
       "7                     Ferris Bueller's Day Off (1986)     5.0\n",
       "8                                   Fight Club (1999)     4.0\n",
       "9                                      Memento (2000)     4.0\n",
       "10                                Donnie Darko (2001)     5.0\n",
       "11                              Igby Goes Down (2002)     5.0\n",
       "12                               Batman Begins (2005)     4.0\n",
       "13                                    Superbad (2007)     3.5\n",
       "14                            Dark Knight, The (2008)     4.0\n",
       "15                                    Iron Man (2008)     5.0\n",
       "16                                   Star Trek (2009)     5.0\n",
       "17      Harry Potter and the Half-Blood Prince (2009)     5.0\n",
       "18                             Sherlock Holmes (2009)     5.0\n",
       "19  Harry Potter and the Deathly Hallows: Part 1 (...     5.0\n",
       "20                            The Hunger Games (2012)     2.5\n",
       "21          Sherlock Holmes: A Game of Shadows (2011)     5.0\n",
       "22            Perks of Being a Wallflower, The (2012)     5.0\n",
       "23          Hobbit: An Unexpected Journey, The (2012)     0.5\n",
       "24                            Django Unchained (2012)     4.0\n",
       "25                                    Whiplash (2014)     5.0"
      ]
     },
     "execution_count": 30,
     "metadata": {},
     "output_type": "execute_result"
    }
   ],
   "source": [
    "df_user_data_with_tags[['title', 'rating']]"
   ]
  },
  {
   "cell_type": "code",
   "execution_count": 31,
   "metadata": {
    "scrolled": false
   },
   "outputs": [],
   "source": [
    "df_user_data_with_tags['weight'] = df_user_data_with_tags['rating']/5."
   ]
  },
  {
   "cell_type": "code",
   "execution_count": 32,
   "metadata": {
    "scrolled": false
   },
   "outputs": [],
   "source": [
    "user_profile = np.dot(df_movies_tf_idf_described[df_user_data_with_tags['index'].values].toarray().T, df_user_data_with_tags['weight'].values)"
   ]
  },
  {
   "cell_type": "code",
   "execution_count": 33,
   "metadata": {},
   "outputs": [],
   "source": [
    "C = cosine_similarity(atleast_2d(user_profile), df_movies_tf_idf_described)"
   ]
  },
  {
   "cell_type": "code",
   "execution_count": 34,
   "metadata": {},
   "outputs": [],
   "source": [
    "R = argsort(C)[:, ::-1]"
   ]
  },
  {
   "cell_type": "code",
   "execution_count": 35,
   "metadata": {
    "scrolled": true
   },
   "outputs": [],
   "source": [
    "recommendations = [i for i in R[0] if i not in df_user_data_with_tags['index'].values]"
   ]
  },
  {
   "cell_type": "code",
   "execution_count": 36,
   "metadata": {},
   "outputs": [
    {
     "data": {
      "text/plain": [
       "302            Shawshank Redemption, The (1994)\n",
       "10955                              Logan (2017)\n",
       "1119                         Stand by Me (1986)\n",
       "2530                     American Beauty (1999)\n",
       "10810                           11.22.63 (2016)\n",
       "5189        City of God (Cidade de Deus) (2002)\n",
       "49                   Usual Suspects, The (1995)\n",
       "1075                          Goodfellas (1990)\n",
       "1057     One Flew Over the Cuckoo's Nest (1975)\n",
       "10414         Untitled Spider-Man Reboot (2017)\n",
       "Name: title, dtype: object"
      ]
     },
     "execution_count": 36,
     "metadata": {},
     "output_type": "execute_result"
    }
   ],
   "source": [
    "df_data_with_tags['title'][recommendations].head(10)"
   ]
  }
 ],
 "metadata": {
  "kernelspec": {
   "display_name": "Python 2",
   "language": "python",
   "name": "python2"
  },
  "language_info": {
   "codemirror_mode": {
    "name": "ipython",
    "version": 2
   },
   "file_extension": ".py",
   "mimetype": "text/x-python",
   "name": "python",
   "nbconvert_exporter": "python",
   "pygments_lexer": "ipython2",
   "version": "2.7.13"
  }
 },
 "nbformat": 4,
 "nbformat_minor": 2
}
